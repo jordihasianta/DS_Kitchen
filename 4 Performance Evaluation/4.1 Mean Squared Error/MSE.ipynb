{
 "cells": [
  {
   "cell_type": "markdown",
   "metadata": {},
   "source": [
    "# MEAN SQUARED ERROR\n"
   ]
  },
  {
   "cell_type": "markdown",
   "metadata": {},
   "source": [
    "Dalam model yang mempunyai kemampuan prediksi nilai yang bersifat kontinyu, ada beberapa pengukuran yang bisa\n",
    "dilakukan untuk menguji kualitas sebuah model. Dalam bahasan kali ini, kita akan mempelajari Mean Squared Error (MSE).\n",
    "\n",
    "Sebelum itu mari kita lihat rumus pengukuran yang lain, yaitu Mean Absolute Error (MAE)"
   ]
  },
  {
   "attachments": {
    "image.png": {
     "image/png": "[encoded data removed]"
    }
   },
   "cell_type": "markdown",
   "metadata": {},
   "source": [
    "![image.png](attachment:image.png)"
   ]
  },
  {
   "cell_type": "markdown",
   "metadata": {},
   "source": [
    "f = hasil prediksi sebuah model\n",
    "<br>y = hasil yang diobservasi\n",
    "<br>n = jumlah data\n",
    "\n",
    "dalam persamaan tersebut kita bisa melihat bahwa nilai MAE didapat dari hasil perbedaan antara prediksi model dengan data observasi dari i = 1, sampai i = n(jumlah data), kemudian hasil penjumlahan dari semua nilai tersebut dirata-ratakan dengan banyaknya jumlah data. oleh sebab itu,karena MAE adalah perhitungan untuk mengetahui tingkat error, maka jika nilainya semakin mendekati 0 semakin baik.\n",
    "\n",
    "\n",
    "Mari kita bandingkan terhadap MSE"
   ]
  },
  {
   "attachments": {
    "image.png": {
     "image/png": "[encoded data removed]"
    }
   },
   "cell_type": "markdown",
   "metadata": {},
   "source": [
    "![image.png](attachment:image.png)"
   ]
  },
  {
   "cell_type": "markdown",
   "metadata": {},
   "source": [
    "Dari persamaan MSE dapat dilihat bahwa jika dibandingkan dengan MAE, tingkat error dalam MSE berbanding kuadrat terhadap MAE.\n",
    "jika perbedaan error semakin kecil, maka nilai MSE semakin kecil pula, sebaliknya jika semakin besar, maka nilai MSE semakin besar.\n",
    "\n",
    "MSE dilakukan untuk mengukur tingkat konsistensi sebuah model. Oleh karena itu, karena MSE adalah fungsi kuadrat, MSE sangat sensitif terhadap outlier. \n"
   ]
  },
  {
   "cell_type": "markdown",
   "metadata": {},
   "source": [
    "# CODING SECTION"
   ]
  },
  {
   "cell_type": "markdown",
   "metadata": {},
   "source": [
    "Data yang diambil adalah data saat pembahasan BAB 1 Regresi Linear"
   ]
  },
  {
   "cell_type": "code",
   "execution_count": 24,
   "metadata": {},
   "outputs": [],
   "source": [
    "import pandas as pd\n",
    "import numpy as np"
   ]
  },
  {
   "cell_type": "code",
   "execution_count": 4,
   "metadata": {},
   "outputs": [],
   "source": [
    "df = pd.read_csv('salary.csv')"
   ]
  },
  {
   "cell_type": "code",
   "execution_count": 5,
   "metadata": {},
   "outputs": [],
   "source": [
    "#mengubah data menjadi array agar bisa dilakukan proses machine learning\n",
    "X = df.pengalaman.values.reshape(-1,1) \n",
    "y = df.gaji.values\n",
    "#Memisah data untuk proses data latih dan data uji\n",
    "from sklearn.model_selection import train_test_split\n",
    "X_train, X_test, y_train, y_test = train_test_split(X,y, test_size = 1/4, random_state = 42)\n",
    "\n",
    "#import algoritma dari scikit-learn\n",
    "from sklearn.linear_model import LinearRegression\n",
    "model = LinearRegression()\n",
    "#memuat machine learning terhadap data latih\n",
    "model.fit(X_train, y_train)\n",
    "\n",
    "y_pred = model.predict(X_test)"
   ]
  },
  {
   "cell_type": "markdown",
   "metadata": {},
   "source": [
    "kemudian hasil prediksi dan hasil observasi kita ambil untuk analisis lebih jauh"
   ]
  },
  {
   "cell_type": "code",
   "execution_count": 7,
   "metadata": {},
   "outputs": [],
   "source": [
    "df_reg = pd.DataFrame({'obs' : y_test, 'pred': y_pred})"
   ]
  },
  {
   "cell_type": "code",
   "execution_count": 9,
   "metadata": {
    "scrolled": false
   },
   "outputs": [
    {
     "data": {
      "text/html": [
       "<div>\n",
       "<style scoped>\n",
       "    .dataframe tbody tr th:only-of-type {\n",
       "        vertical-align: middle;\n",
       "    }\n",
       "\n",
       "    .dataframe tbody tr th {\n",
       "        vertical-align: top;\n",
       "    }\n",
       "\n",
       "    .dataframe thead th {\n",
       "        text-align: right;\n",
       "    }\n",
       "</style>\n",
       "<table border=\"1\" class=\"dataframe\">\n",
       "  <thead>\n",
       "    <tr style=\"text-align: right;\">\n",
       "      <th></th>\n",
       "      <th>obs</th>\n",
       "      <th>pred</th>\n",
       "    </tr>\n",
       "  </thead>\n",
       "  <tbody>\n",
       "    <tr>\n",
       "      <th>0</th>\n",
       "      <td>18.567</td>\n",
       "      <td>16.808600</td>\n",
       "    </tr>\n",
       "    <tr>\n",
       "      <th>1</th>\n",
       "      <td>38.817</td>\n",
       "      <td>39.989957</td>\n",
       "    </tr>\n",
       "    <tr>\n",
       "      <th>2</th>\n",
       "      <td>38.056</td>\n",
       "      <td>38.155461</td>\n",
       "    </tr>\n",
       "    <tr>\n",
       "      <th>3</th>\n",
       "      <td>47.937</td>\n",
       "      <td>45.493445</td>\n",
       "    </tr>\n",
       "    <tr>\n",
       "      <th>4</th>\n",
       "      <td>35.613</td>\n",
       "      <td>33.652608</td>\n",
       "    </tr>\n",
       "    <tr>\n",
       "      <th>5</th>\n",
       "      <td>17.752</td>\n",
       "      <td>22.812404</td>\n",
       "    </tr>\n",
       "    <tr>\n",
       "      <th>6</th>\n",
       "      <td>35.505</td>\n",
       "      <td>30.317160</td>\n",
       "    </tr>\n",
       "    <tr>\n",
       "      <th>7</th>\n",
       "      <td>16.721</td>\n",
       "      <td>18.976640</td>\n",
       "    </tr>\n",
       "    <tr>\n",
       "      <th>8</th>\n",
       "      <td>38.708</td>\n",
       "      <td>42.658315</td>\n",
       "    </tr>\n",
       "    <tr>\n",
       "      <th>9</th>\n",
       "      <td>16.232</td>\n",
       "      <td>18.643095</td>\n",
       "    </tr>\n",
       "  </tbody>\n",
       "</table>\n",
       "</div>"
      ],
      "text/plain": [
       "      obs       pred\n",
       "0  18.567  16.808600\n",
       "1  38.817  39.989957\n",
       "2  38.056  38.155461\n",
       "3  47.937  45.493445\n",
       "4  35.613  33.652608\n",
       "5  17.752  22.812404\n",
       "6  35.505  30.317160\n",
       "7  16.721  18.976640\n",
       "8  38.708  42.658315\n",
       "9  16.232  18.643095"
      ]
     },
     "execution_count": 9,
     "metadata": {},
     "output_type": "execute_result"
    }
   ],
   "source": [
    "df_reg.head(10)"
   ]
  },
  {
   "cell_type": "markdown",
   "metadata": {},
   "source": [
    "Kemudian kita hitung MSE berdasarkan data yang sudah kita dapat, berdasarkan rumus MSE"
   ]
  },
  {
   "attachments": {
    "image.png": {
     "image/png": "[encoded data removed]"
    }
   },
   "cell_type": "markdown",
   "metadata": {},
   "source": [
    "![image.png](attachment:image.png)"
   ]
  },
  {
   "cell_type": "code",
   "execution_count": 21,
   "metadata": {},
   "outputs": [
    {
     "data": {
      "text/html": [
       "<div>\n",
       "<style scoped>\n",
       "    .dataframe tbody tr th:only-of-type {\n",
       "        vertical-align: middle;\n",
       "    }\n",
       "\n",
       "    .dataframe tbody tr th {\n",
       "        vertical-align: top;\n",
       "    }\n",
       "\n",
       "    .dataframe thead th {\n",
       "        text-align: right;\n",
       "    }\n",
       "</style>\n",
       "<table border=\"1\" class=\"dataframe\">\n",
       "  <thead>\n",
       "    <tr style=\"text-align: right;\">\n",
       "      <th></th>\n",
       "      <th>obs</th>\n",
       "      <th>pred</th>\n",
       "      <th>error_sqrt</th>\n",
       "    </tr>\n",
       "  </thead>\n",
       "  <tbody>\n",
       "    <tr>\n",
       "      <th>0</th>\n",
       "      <td>18.567</td>\n",
       "      <td>16.808600</td>\n",
       "      <td>3.091972</td>\n",
       "    </tr>\n",
       "    <tr>\n",
       "      <th>1</th>\n",
       "      <td>38.817</td>\n",
       "      <td>39.989957</td>\n",
       "      <td>1.375829</td>\n",
       "    </tr>\n",
       "    <tr>\n",
       "      <th>2</th>\n",
       "      <td>38.056</td>\n",
       "      <td>38.155461</td>\n",
       "      <td>0.009893</td>\n",
       "    </tr>\n",
       "    <tr>\n",
       "      <th>3</th>\n",
       "      <td>47.937</td>\n",
       "      <td>45.493445</td>\n",
       "      <td>5.970961</td>\n",
       "    </tr>\n",
       "    <tr>\n",
       "      <th>4</th>\n",
       "      <td>35.613</td>\n",
       "      <td>33.652608</td>\n",
       "      <td>3.843138</td>\n",
       "    </tr>\n",
       "  </tbody>\n",
       "</table>\n",
       "</div>"
      ],
      "text/plain": [
       "      obs       pred  error_sqrt\n",
       "0  18.567  16.808600    3.091972\n",
       "1  38.817  39.989957    1.375829\n",
       "2  38.056  38.155461    0.009893\n",
       "3  47.937  45.493445    5.970961\n",
       "4  35.613  33.652608    3.843138"
      ]
     },
     "execution_count": 21,
     "metadata": {},
     "output_type": "execute_result"
    }
   ],
   "source": [
    "#aplikasi dari (fi-yi)^2\n",
    "df_reg['error_sqrt'] = (df_reg['pred'] - df_reg['obs'])**2\n",
    "df_reg.head()"
   ]
  },
  {
   "cell_type": "code",
   "execution_count": 22,
   "metadata": {},
   "outputs": [
    {
     "data": {
      "text/plain": [
       "11.458349748628933"
      ]
     },
     "execution_count": 22,
     "metadata": {},
     "output_type": "execute_result"
    }
   ],
   "source": [
    "#perhitungan dari hasil jumlah data dibagi total data alias rata-rata, didapat nilai MSE\n",
    "df_reg['error_sqrt'].mean()"
   ]
  },
  {
   "cell_type": "markdown",
   "metadata": {},
   "source": [
    "Cara instant dari scikit-learn"
   ]
  },
  {
   "cell_type": "code",
   "execution_count": 23,
   "metadata": {},
   "outputs": [
    {
     "data": {
      "text/plain": [
       "11.458349748628933"
      ]
     },
     "execution_count": 23,
     "metadata": {},
     "output_type": "execute_result"
    }
   ],
   "source": [
    "from sklearn.metrics import mean_squared_error\n",
    "mean_squared_error(y_test, y_pred)"
   ]
  },
  {
   "cell_type": "markdown",
   "metadata": {},
   "source": [
    "# KESIMPULAN\n",
    "\n",
    "MSE adalah salah 1 jenis pengukuran kualitas model regresi yang sensitif terhadap outliers. Namun dalam menginterpretasikannya, butuh pemahaman lebih lanjut tentang domain knowledge dalam data yang kita modelkan, karena kita tidak bisa sembarangan dalam menangani outliers"
   ]
  }
 ],
 "metadata": {
  "kernelspec": {
   "display_name": "Python 3",
   "language": "python",
   "name": "python3"
  },
  "language_info": {
   "codemirror_mode": {
    "name": "ipython",
    "version": 3
   },
   "file_extension": ".py",
   "mimetype": "text/x-python",
   "name": "python",
   "nbconvert_exporter": "python",
   "pygments_lexer": "ipython3",
   "version": "3.6.6"
  }
 },
 "nbformat": 4,
 "nbformat_minor": 2
}
